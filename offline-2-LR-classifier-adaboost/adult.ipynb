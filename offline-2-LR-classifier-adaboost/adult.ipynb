{
 "cells": [
  {
   "cell_type": "code",
   "execution_count": 1,
   "metadata": {},
   "outputs": [],
   "source": [
    "import numpy as np\n",
    "import pandas as pd\n",
    "import matplotlib.pyplot as plt\n",
    "import seaborn as sns\n",
    "\n",
    "from imblearn.over_sampling import RandomOverSampler\n",
    "from sklearn.preprocessing import StandardScaler, LabelEncoder, OneHotEncoder\n",
    "from sklearn.model_selection import train_test_split\n",
    "from sklearn.linear_model import LogisticRegression\n",
    "from sklearn.metrics import accuracy_score"
   ]
  },
  {
   "cell_type": "code",
   "execution_count": 2,
   "metadata": {},
   "outputs": [],
   "source": [
    "def label_encode_features(dataFrame, features, label_encoder = LabelEncoder()):\n",
    "    for feature in features:\n",
    "        dataFrame[feature] = label_encoder.fit_transform(dataFrame[feature])\n",
    "    return dataFrame\n",
    "\n",
    "def one_hot_encode_features(dataFrame, feature_names, one_hot_encoder = OneHotEncoder(sparse_output=False)):\n",
    "    for feature in feature_names:\n",
    "        encoded = one_hot_encoder.fit_transform(dataFrame[feature].values.reshape(-1, 1)).astype(np.int64)\n",
    "        encoded_df = pd.DataFrame(encoded)\n",
    "        encoded_df.columns = [feature + '_' + str(i) for i in range(encoded.shape[1])]\n",
    "        encoded_df.index = dataFrame.index\n",
    "        dataFrame = dataFrame.drop(feature, axis=1)\n",
    "        dataFrame = pd.concat([dataFrame, encoded_df], axis=1)\n",
    "    return dataFrame\n",
    "\n",
    "def remove_outliers(dataFrame, columns):\n",
    "    for column in columns:\n",
    "        # Calculate Q1 (25th percentile of the data) for the given feature\n",
    "        Q1 = np.percentile(dataFrame[column], 25)\n",
    "        Q3 = np.percentile(dataFrame[column], 75)\n",
    "        IQR = Q3 - Q1\n",
    "        step = 1.5 * IQR\n",
    "        # Remove the outliers\n",
    "        dataFrame = dataFrame[(dataFrame[column] >= Q1 - step) & (dataFrame[column] <= Q3 + step)]\n",
    "    return dataFrame"
   ]
  },
  {
   "cell_type": "code",
   "execution_count": 3,
   "metadata": {},
   "outputs": [
    {
     "data": {
      "text/html": [
       "<div>\n",
       "<style scoped>\n",
       "    .dataframe tbody tr th:only-of-type {\n",
       "        vertical-align: middle;\n",
       "    }\n",
       "\n",
       "    .dataframe tbody tr th {\n",
       "        vertical-align: top;\n",
       "    }\n",
       "\n",
       "    .dataframe thead th {\n",
       "        text-align: right;\n",
       "    }\n",
       "</style>\n",
       "<table border=\"1\" class=\"dataframe\">\n",
       "  <thead>\n",
       "    <tr style=\"text-align: right;\">\n",
       "      <th></th>\n",
       "      <th>age</th>\n",
       "      <th>workclass</th>\n",
       "      <th>fnlwgt</th>\n",
       "      <th>education</th>\n",
       "      <th>education-num</th>\n",
       "      <th>marital-status</th>\n",
       "      <th>occupation</th>\n",
       "      <th>relationship</th>\n",
       "      <th>race</th>\n",
       "      <th>sex</th>\n",
       "      <th>capital-gain</th>\n",
       "      <th>capital-loss</th>\n",
       "      <th>hours-per-week</th>\n",
       "      <th>native-country</th>\n",
       "      <th>income</th>\n",
       "    </tr>\n",
       "  </thead>\n",
       "  <tbody>\n",
       "    <tr>\n",
       "      <th>1</th>\n",
       "      <td>25</td>\n",
       "      <td>Private</td>\n",
       "      <td>226802.0</td>\n",
       "      <td>11th</td>\n",
       "      <td>7.0</td>\n",
       "      <td>Never-married</td>\n",
       "      <td>Machine-op-inspct</td>\n",
       "      <td>Own-child</td>\n",
       "      <td>Black</td>\n",
       "      <td>Male</td>\n",
       "      <td>0.0</td>\n",
       "      <td>0.0</td>\n",
       "      <td>40.0</td>\n",
       "      <td>United-States</td>\n",
       "      <td>&lt;=50K.</td>\n",
       "    </tr>\n",
       "    <tr>\n",
       "      <th>2</th>\n",
       "      <td>38</td>\n",
       "      <td>Private</td>\n",
       "      <td>89814.0</td>\n",
       "      <td>HS-grad</td>\n",
       "      <td>9.0</td>\n",
       "      <td>Married-civ-spouse</td>\n",
       "      <td>Farming-fishing</td>\n",
       "      <td>Husband</td>\n",
       "      <td>White</td>\n",
       "      <td>Male</td>\n",
       "      <td>0.0</td>\n",
       "      <td>0.0</td>\n",
       "      <td>50.0</td>\n",
       "      <td>United-States</td>\n",
       "      <td>&lt;=50K.</td>\n",
       "    </tr>\n",
       "    <tr>\n",
       "      <th>3</th>\n",
       "      <td>28</td>\n",
       "      <td>Local-gov</td>\n",
       "      <td>336951.0</td>\n",
       "      <td>Assoc-acdm</td>\n",
       "      <td>12.0</td>\n",
       "      <td>Married-civ-spouse</td>\n",
       "      <td>Protective-serv</td>\n",
       "      <td>Husband</td>\n",
       "      <td>White</td>\n",
       "      <td>Male</td>\n",
       "      <td>0.0</td>\n",
       "      <td>0.0</td>\n",
       "      <td>40.0</td>\n",
       "      <td>United-States</td>\n",
       "      <td>&gt;50K.</td>\n",
       "    </tr>\n",
       "    <tr>\n",
       "      <th>4</th>\n",
       "      <td>44</td>\n",
       "      <td>Private</td>\n",
       "      <td>160323.0</td>\n",
       "      <td>Some-college</td>\n",
       "      <td>10.0</td>\n",
       "      <td>Married-civ-spouse</td>\n",
       "      <td>Machine-op-inspct</td>\n",
       "      <td>Husband</td>\n",
       "      <td>Black</td>\n",
       "      <td>Male</td>\n",
       "      <td>7688.0</td>\n",
       "      <td>0.0</td>\n",
       "      <td>40.0</td>\n",
       "      <td>United-States</td>\n",
       "      <td>&gt;50K.</td>\n",
       "    </tr>\n",
       "    <tr>\n",
       "      <th>5</th>\n",
       "      <td>18</td>\n",
       "      <td>?</td>\n",
       "      <td>103497.0</td>\n",
       "      <td>Some-college</td>\n",
       "      <td>10.0</td>\n",
       "      <td>Never-married</td>\n",
       "      <td>?</td>\n",
       "      <td>Own-child</td>\n",
       "      <td>White</td>\n",
       "      <td>Female</td>\n",
       "      <td>0.0</td>\n",
       "      <td>0.0</td>\n",
       "      <td>30.0</td>\n",
       "      <td>United-States</td>\n",
       "      <td>&lt;=50K.</td>\n",
       "    </tr>\n",
       "  </tbody>\n",
       "</table>\n",
       "</div>"
      ],
      "text/plain": [
       "  age   workclass    fnlwgt      education  education-num  \\\n",
       "1  25     Private  226802.0           11th            7.0   \n",
       "2  38     Private   89814.0        HS-grad            9.0   \n",
       "3  28   Local-gov  336951.0     Assoc-acdm           12.0   \n",
       "4  44     Private  160323.0   Some-college           10.0   \n",
       "5  18           ?  103497.0   Some-college           10.0   \n",
       "\n",
       "        marital-status          occupation relationship    race      sex  \\\n",
       "1        Never-married   Machine-op-inspct    Own-child   Black     Male   \n",
       "2   Married-civ-spouse     Farming-fishing      Husband   White     Male   \n",
       "3   Married-civ-spouse     Protective-serv      Husband   White     Male   \n",
       "4   Married-civ-spouse   Machine-op-inspct      Husband   Black     Male   \n",
       "5        Never-married                   ?    Own-child   White   Female   \n",
       "\n",
       "   capital-gain  capital-loss  hours-per-week  native-country   income  \n",
       "1           0.0           0.0            40.0   United-States   <=50K.  \n",
       "2           0.0           0.0            50.0   United-States   <=50K.  \n",
       "3           0.0           0.0            40.0   United-States    >50K.  \n",
       "4        7688.0           0.0            40.0   United-States    >50K.  \n",
       "5           0.0           0.0            30.0   United-States   <=50K.  "
      ]
     },
     "execution_count": 3,
     "metadata": {},
     "output_type": "execute_result"
    }
   ],
   "source": [
    "# import the dataset. the extension is .NAMES\n",
    "dataset_path = 'datasets/adult/'\n",
    "\n",
    "data_column_names = ['age', 'workclass', 'fnlwgt', 'education', 'education-num', 'marital-status', 'occupation', 'relationship',\n",
    "                     'race', 'sex', 'capital-gain', 'capital-loss', 'hours-per-week', 'native-country', 'income']\n",
    "data = pd.read_csv(dataset_path + 'adult.data', names=data_column_names)\n",
    "data_test = pd.read_csv(dataset_path + 'adult.test', names=data_column_names)\n",
    "# remove the first row of the test data\n",
    "data_test = data_test.drop(data_test.index[0])\n",
    "data_test.head()"
   ]
  },
  {
   "cell_type": "markdown",
   "metadata": {},
   "source": [
    "seems like the data has spaces. a lot of spaces\n",
    "let's remove them"
   ]
  },
  {
   "cell_type": "code",
   "execution_count": 4,
   "metadata": {},
   "outputs": [],
   "source": [
    "# remove spaces from the beginning and end of the values\n",
    "data = data.apply(lambda x: x.str.strip() if x.dtype == \"object\" else x)\n",
    "\n",
    "# remove the rows with '?' values\n",
    "data = data[(data != '?').all(axis=1)]\n",
    "data_test = data_test[(data_test != '?').all(axis=1)]\n"
   ]
  },
  {
   "cell_type": "code",
   "execution_count": 5,
   "metadata": {},
   "outputs": [],
   "source": [
    "# see if there are any missing values\n",
    "for column in data.columns:\n",
    "    if data[column].isnull().sum() > 0:\n",
    "        print('There are missing values in column ' + column)"
   ]
  },
  {
   "cell_type": "code",
   "execution_count": 6,
   "metadata": {},
   "outputs": [
    {
     "name": "stdout",
     "output_type": "stream",
     "text": [
      "age \t <class 'numpy.int64'> \n",
      " [39 50 38 53 28 37 49 52 31 42 30 23 32 34 25 43 40 54 35 59 56 19 20 45\n",
      " 22 48 21 24 57 44 41 29 47 46 36 79 27 18 33 76 55 61 70 64 71 66 51 58\n",
      " 26 17 60 90 75 65 77 62 63 67 74 72 69 68 73 81 78 88 80 84 83 85 82 86] \n",
      "\n",
      "workclass \t <class 'str'> \n",
      " ['State-gov' 'Self-emp-not-inc' 'Private' 'Federal-gov' 'Local-gov'\n",
      " 'Self-emp-inc' 'Without-pay'] \n",
      "\n",
      "fnlwgt \t <class 'numpy.int64'> \n",
      " [ 77516  83311 215646 ...  84661 257302 201490] \n",
      "\n",
      "education \t <class 'str'> \n",
      " ['Bachelors' 'HS-grad' '11th' 'Masters' '9th' 'Some-college' 'Assoc-acdm'\n",
      " '7th-8th' 'Doctorate' 'Assoc-voc' 'Prof-school' '5th-6th' '10th'\n",
      " 'Preschool' '12th' '1st-4th'] \n",
      "\n",
      "education-num \t <class 'numpy.int64'> \n",
      " [13  9  7 14  5 10 12  4 16 11 15  3  6  1  8  2] \n",
      "\n",
      "marital-status \t <class 'str'> \n",
      " ['Never-married' 'Married-civ-spouse' 'Divorced' 'Married-spouse-absent'\n",
      " 'Separated' 'Married-AF-spouse' 'Widowed'] \n",
      "\n",
      "occupation \t <class 'str'> \n",
      " ['Adm-clerical' 'Exec-managerial' 'Handlers-cleaners' 'Prof-specialty'\n",
      " 'Other-service' 'Sales' 'Transport-moving' 'Farming-fishing'\n",
      " 'Machine-op-inspct' 'Tech-support' 'Craft-repair' 'Protective-serv'\n",
      " 'Armed-Forces' 'Priv-house-serv'] \n",
      "\n",
      "relationship \t <class 'str'> \n",
      " ['Not-in-family' 'Husband' 'Wife' 'Own-child' 'Unmarried' 'Other-relative'] \n",
      "\n",
      "race \t <class 'str'> \n",
      " ['White' 'Black' 'Asian-Pac-Islander' 'Amer-Indian-Eskimo' 'Other'] \n",
      "\n",
      "sex \t <class 'str'> \n",
      " ['Male' 'Female'] \n",
      "\n",
      "capital-gain \t <class 'numpy.int64'> \n",
      " [ 2174     0 14084  5178  5013  2407 14344 15024  7688  4064  4386  7298\n",
      "  1409  3674  1055  2050  2176   594 20051  6849  4101  8614  3411  2597\n",
      " 25236  4650  2463  3103 10605  2964  3325  2580  3471  4865 99999  6514\n",
      "  1471  2329  2105  2885 10520  2202  2961 27828  6767  2228  1506 13550\n",
      "  2635  5556  4787  3781  3137  3818   914   401  2829  2977  4934  2062\n",
      "  2354  3464  5455 15020  1424  3273 22040  4416 10566  4931  7430 34095\n",
      "  6497  3908   114  2346  2907  1151  9386  2414  2290  3418 15831 41310\n",
      "  4508  2538  3456  1848  3887  7896  5721  9562  6418  1455  2036  3942\n",
      "  1831 11678  2936  2993  7443  6360  4687  1797  6723  2009  3432  6097\n",
      "  1639  2653 18481 25124  7978   991  1173  2387  5060  1086] \n",
      "\n",
      "capital-loss \t <class 'numpy.int64'> \n",
      " [   0 2042 1408 1902 1887 1719 1762 1564 2179 1816 1980 1977 1876 1340\n",
      " 2206 1741 1485 2339 2415 1380 1721 2051 2377 1669 2352 1672  653 2392\n",
      " 1504 1590 1651 1628 1848 2001 1740 2002 1579 2258 1602 2547 2205 1726\n",
      " 2444 1138 2238  625  213 1539  880 1668 1092 1594 2231 1844  810 2824\n",
      " 2559 2057 1573 1974  974 2174 2149 1735 1258 2603 2282  323 2246 1617\n",
      " 1648 1825 3770 1755 3683 2129 4356 2267 2080 2457  419  155 3900 2201\n",
      " 1944 2467 2754 2472 3004 1411] \n",
      "\n",
      "hours-per-week \t <class 'numpy.int64'> \n",
      " [40 13 16 45 50 80 30 35 60 20 52 44 15 25 43 38 55 48 58 32 70 22 56 41\n",
      " 28 36 24 46  2 42 12 65  1 34 75 98 33 54 10  6 64 19 18 72  8  9 47 37\n",
      " 21 26 14  5  7 99 53 39 62 59 57 78 90 66 11 49 84 17 68  3 27 85 31 51\n",
      " 77 63 23  4 87 88 73 89 97 94 29 96 67 82 86 91 81 76 92 61 74 95] \n",
      "\n",
      "native-country \t <class 'str'> \n",
      " ['United-States' 'Cuba' 'Jamaica' 'India' 'Mexico' 'Puerto-Rico'\n",
      " 'Honduras' 'England' 'Canada' 'Germany' 'Iran' 'Philippines' 'Poland'\n",
      " 'Columbia' 'Cambodia' 'Thailand' 'Ecuador' 'Laos' 'Taiwan' 'Haiti'\n",
      " 'Portugal' 'Dominican-Republic' 'El-Salvador' 'France' 'Guatemala'\n",
      " 'Italy' 'China' 'South' 'Japan' 'Yugoslavia' 'Peru'\n",
      " 'Outlying-US(Guam-USVI-etc)' 'Scotland' 'Trinadad&Tobago' 'Greece'\n",
      " 'Nicaragua' 'Vietnam' 'Hong' 'Ireland' 'Hungary' 'Holand-Netherlands'] \n",
      "\n",
      "income \t <class 'str'> \n",
      " ['<=50K' '>50K'] \n",
      "\n"
     ]
    }
   ],
   "source": [
    "for column in data.columns:\n",
    "    print(column, '\\t', type(data[column].unique()[0]), '\\n', data[column].unique(), '\\n')"
   ]
  },
  {
   "cell_type": "code",
   "execution_count": 7,
   "metadata": {},
   "outputs": [
    {
     "data": {
      "text/plain": [
       "array(['United-States', 'Cuba', 'Jamaica', 'India', 'Mexico',\n",
       "       'Puerto-Rico', 'Honduras', 'England', 'Canada', 'Germany', 'Iran',\n",
       "       'Philippines', 'Poland', 'Columbia', 'Cambodia', 'Thailand',\n",
       "       'Ecuador', 'Laos', 'Taiwan', 'Haiti', 'Portugal',\n",
       "       'Dominican-Republic', 'El-Salvador', 'France', 'Guatemala',\n",
       "       'Italy', 'China', 'South', 'Japan', 'Yugoslavia', 'Peru',\n",
       "       'Outlying-US(Guam-USVI-etc)', 'Scotland', 'Trinadad&Tobago',\n",
       "       'Greece', 'Nicaragua', 'Vietnam', 'Hong', 'Ireland', 'Hungary',\n",
       "       'Holand-Netherlands'], dtype=object)"
      ]
     },
     "execution_count": 7,
     "metadata": {},
     "output_type": "execute_result"
    }
   ],
   "source": [
    "data['native-country'].unique()"
   ]
  },
  {
   "cell_type": "code",
   "execution_count": 8,
   "metadata": {},
   "outputs": [],
   "source": [
    "numeric_features = ['age', 'fnlwgt', 'education-num', 'capital-gain', 'capital-loss', 'hours-per-week']\n",
    "one_hot_features = ['workclass', 'education', 'marital-status', 'occupation', 'relationship', 'race', 'native-country']\n",
    "label_features =   ['sex', 'income']"
   ]
  },
  {
   "cell_type": "code",
   "execution_count": 9,
   "metadata": {},
   "outputs": [
    {
     "data": {
      "text/plain": [
       "Index(['age', 'workclass', 'fnlwgt', 'education', 'education-num',\n",
       "       'marital-status', 'occupation', 'relationship', 'race', 'sex',\n",
       "       'capital-gain', 'capital-loss', 'hours-per-week', 'native-country',\n",
       "       'income'],\n",
       "      dtype='object')"
      ]
     },
     "execution_count": 9,
     "metadata": {},
     "output_type": "execute_result"
    }
   ],
   "source": [
    "data = label_encode_features(data, label_features)\n",
    "data_test = label_encode_features(data_test, label_features)\n",
    "data.columns"
   ]
  },
  {
   "cell_type": "code",
   "execution_count": 10,
   "metadata": {},
   "outputs": [
    {
     "data": {
      "text/plain": [
       "0        1\n",
       "1        1\n",
       "2        1\n",
       "3        1\n",
       "4        0\n",
       "        ..\n",
       "32556    0\n",
       "32557    1\n",
       "32558    0\n",
       "32559    1\n",
       "32560    0\n",
       "Name: sex, Length: 30162, dtype: int32"
      ]
     },
     "execution_count": 10,
     "metadata": {},
     "output_type": "execute_result"
    }
   ],
   "source": [
    "data['sex']"
   ]
  },
  {
   "cell_type": "code",
   "execution_count": 11,
   "metadata": {},
   "outputs": [
    {
     "name": "stderr",
     "output_type": "stream",
     "text": [
      "C:\\Users\\Zainal Abedin\\AppData\\Roaming\\Python\\Python312\\site-packages\\sklearn\\preprocessing\\_encoders.py:975: FutureWarning: `sparse` was renamed to `sparse_output` in version 1.2 and will be removed in 1.4. `sparse_output` is ignored unless you leave `sparse` to its default value.\n",
      "  warnings.warn(\n"
     ]
    },
    {
     "data": {
      "text/plain": [
       "[array(['Federal-gov', 'Local-gov', 'Private', 'Self-emp-inc',\n",
       "        'Self-emp-not-inc', 'State-gov', 'Without-pay'], dtype=object),\n",
       " array(['10th', '11th', '12th', '1st-4th', '5th-6th', '7th-8th', '9th',\n",
       "        'Assoc-acdm', 'Assoc-voc', 'Bachelors', 'Doctorate', 'HS-grad',\n",
       "        'Masters', 'Preschool', 'Prof-school', 'Some-college'],\n",
       "       dtype=object),\n",
       " array(['Divorced', 'Married-AF-spouse', 'Married-civ-spouse',\n",
       "        'Married-spouse-absent', 'Never-married', 'Separated', 'Widowed'],\n",
       "       dtype=object),\n",
       " array(['Adm-clerical', 'Armed-Forces', 'Craft-repair', 'Exec-managerial',\n",
       "        'Farming-fishing', 'Handlers-cleaners', 'Machine-op-inspct',\n",
       "        'Other-service', 'Priv-house-serv', 'Prof-specialty',\n",
       "        'Protective-serv', 'Sales', 'Tech-support', 'Transport-moving'],\n",
       "       dtype=object),\n",
       " array(['Husband', 'Not-in-family', 'Other-relative', 'Own-child',\n",
       "        'Unmarried', 'Wife'], dtype=object),\n",
       " array(['Amer-Indian-Eskimo', 'Asian-Pac-Islander', 'Black', 'Other',\n",
       "        'White'], dtype=object),\n",
       " array(['Cambodia', 'Canada', 'China', 'Columbia', 'Cuba',\n",
       "        'Dominican-Republic', 'Ecuador', 'El-Salvador', 'England',\n",
       "        'France', 'Germany', 'Greece', 'Guatemala', 'Haiti',\n",
       "        'Holand-Netherlands', 'Honduras', 'Hong', 'Hungary', 'India',\n",
       "        'Iran', 'Ireland', 'Italy', 'Jamaica', 'Japan', 'Laos', 'Mexico',\n",
       "        'Nicaragua', 'Outlying-US(Guam-USVI-etc)', 'Peru', 'Philippines',\n",
       "        'Poland', 'Portugal', 'Puerto-Rico', 'Scotland', 'South', 'Taiwan',\n",
       "        'Thailand', 'Trinadad&Tobago', 'United-States', 'Vietnam',\n",
       "        'Yugoslavia'], dtype=object)]"
      ]
     },
     "execution_count": 11,
     "metadata": {},
     "output_type": "execute_result"
    }
   ],
   "source": [
    "encoder = OneHotEncoder(sparse=False)\n",
    "encoded = encoder.fit(data[one_hot_features])\n",
    "encoded.categories_"
   ]
  },
  {
   "cell_type": "code",
   "execution_count": 12,
   "metadata": {},
   "outputs": [],
   "source": [
    "data = pd.get_dummies(data, columns=one_hot_features, drop_first=True, dtype=np.int64)\n",
    "data_test = pd.get_dummies(data_test, columns=one_hot_features, drop_first=True, dtype=np.int64)"
   ]
  },
  {
   "cell_type": "code",
   "execution_count": 13,
   "metadata": {},
   "outputs": [],
   "source": [
    "data_test['age'] = pd.to_numeric(data_test['age'])"
   ]
  },
  {
   "cell_type": "code",
   "execution_count": 14,
   "metadata": {},
   "outputs": [
    {
     "data": {
      "image/png": "[encoded data removed]",
      "text/plain": [
       "<Figure size 640x480 with 1 Axes>"
      ]
     },
     "metadata": {},
     "output_type": "display_data"
    }
   ],
   "source": [
    "sns.countplot(x='education-num', data=data)\n",
    "plt.show()"
   ]
  },
  {
   "cell_type": "code",
   "execution_count": 15,
   "metadata": {},
   "outputs": [],
   "source": [
    "# remove outliers of age column. other columns dont seem to have outliers\n",
    "data = remove_outliers(data, ['age', 'education-num'])"
   ]
  },
  {
   "cell_type": "code",
   "execution_count": 16,
   "metadata": {},
   "outputs": [
    {
     "data": {
      "image/png": "[encoded data removed]",
      "text/plain": [
       "<Figure size 640x480 with 1 Axes>"
      ]
     },
     "metadata": {},
     "output_type": "display_data"
    }
   ],
   "source": [
    "sns.countplot(x='education-num', data=data)\n",
    "plt.show()"
   ]
  },
  {
   "cell_type": "code",
   "execution_count": 17,
   "metadata": {},
   "outputs": [
    {
     "data": {
      "text/plain": [
       "(29800, 97)"
      ]
     },
     "execution_count": 17,
     "metadata": {},
     "output_type": "execute_result"
    }
   ],
   "source": [
    "data.shape"
   ]
  },
  {
   "cell_type": "code",
   "execution_count": 18,
   "metadata": {},
   "outputs": [
    {
     "data": {
      "text/plain": [
       "income\n",
       "0    22327\n",
       "1     7473\n",
       "Name: count, dtype: int64"
      ]
     },
     "execution_count": 18,
     "metadata": {},
     "output_type": "execute_result"
    }
   ],
   "source": [
    "data['income'].value_counts()"
   ]
  },
  {
   "cell_type": "code",
   "execution_count": 19,
   "metadata": {},
   "outputs": [],
   "source": [
    "X = data.drop('income', axis=1)\n",
    "y = pd.DataFrame(data['income'])"
   ]
  },
  {
   "cell_type": "code",
   "execution_count": 20,
   "metadata": {},
   "outputs": [
    {
     "name": "stdout",
     "output_type": "stream",
     "text": [
      "Index([], dtype='object')\n"
     ]
    }
   ],
   "source": [
    "non_numeric_columns = data_test.select_dtypes(exclude=['number']).columns\n",
    "print(non_numeric_columns)\n"
   ]
  },
  {
   "cell_type": "code",
   "execution_count": null,
   "metadata": {},
   "outputs": [],
   "source": []
  },
  {
   "cell_type": "code",
   "execution_count": 21,
   "metadata": {},
   "outputs": [],
   "source": [
    "\n",
    "X_train, X_test, y_train, y_test = train_test_split(X, y, test_size=0.2, random_state=0, stratify=y)"
   ]
  },
  {
   "cell_type": "code",
   "execution_count": 22,
   "metadata": {},
   "outputs": [],
   "source": [
    "scalar = StandardScaler()\n",
    "X_train[numeric_features] = scalar.fit_transform(X_train[numeric_features])\n",
    "X_test[numeric_features] = scalar.transform(X_test[numeric_features])"
   ]
  },
  {
   "cell_type": "code",
   "execution_count": 25,
   "metadata": {},
   "outputs": [],
   "source": [
    "X_train = X_train.values\n",
    "y_train = y_train.values\n",
    "X_test = X_test.values\n",
    "y_test = y_test.values"
   ]
  },
  {
   "cell_type": "code",
   "execution_count": 27,
   "metadata": {},
   "outputs": [
    {
     "data": {
      "text/plain": [
       "numpy.ndarray"
      ]
     },
     "execution_count": 27,
     "metadata": {},
     "output_type": "execute_result"
    }
   ],
   "source": [
    "type(X_train)"
   ]
  },
  {
   "cell_type": "code",
   "execution_count": 28,
   "metadata": {},
   "outputs": [
    {
     "data": {
      "text/plain": [
       "numpy.ndarray"
      ]
     },
     "execution_count": 28,
     "metadata": {},
     "output_type": "execute_result"
    }
   ],
   "source": [
    "type(y_train)"
   ]
  },
  {
   "cell_type": "code",
   "execution_count": null,
   "metadata": {},
   "outputs": [],
   "source": []
  },
  {
   "cell_type": "code",
   "execution_count": 26,
   "metadata": {},
   "outputs": [
    {
     "data": {
      "text/plain": [
       "0.8406040268456376"
      ]
     },
     "execution_count": 26,
     "metadata": {},
     "output_type": "execute_result"
    }
   ],
   "source": [
    "model = LogisticRegression(max_iter=10000)\n",
    "model.fit(X_train, y_train.ravel())\n",
    "\n",
    "y_pred = model.predict(X_test)\n",
    "accuracy_score(y_test, y_pred)"
   ]
  }
 ],
 "metadata": {
  "kernelspec": {
   "display_name": "Python 3",
   "language": "python",
   "name": "python3"
  },
  "language_info": {
   "codemirror_mode": {
    "name": "ipython",
    "version": 3
   },
   "file_extension": ".py",
   "mimetype": "text/x-python",
   "name": "python",
   "nbconvert_exporter": "python",
   "pygments_lexer": "ipython3",
   "version": "3.12.0"
  }
 },
 "nbformat": 4,
 "nbformat_minor": 2
}
